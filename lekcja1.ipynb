{
  "nbformat": 4,
  "nbformat_minor": 0,
  "metadata": {
    "colab": {
      "name": "lekcja1.ipynb",
      "provenance": [],
      "collapsed_sections": [],
      "toc_visible": true,
      "authorship_tag": "ABX9TyMpycE45QYkl1NDSFzVbHKK",
      "include_colab_link": true
    },
    "kernelspec": {
      "name": "python3",
      "display_name": "Python 3"
    }
  },
  "cells": [
    {
      "cell_type": "markdown",
      "metadata": {
        "id": "view-in-github",
        "colab_type": "text"
      },
      "source": [
        "<a href=\"https://colab.research.google.com/github/bonowg/opencv/blob/master/lekcja1.ipynb\" target=\"_parent\"><img src=\"https://colab.research.google.com/assets/colab-badge.svg\" alt=\"Open In Colab\"/></a>"
      ]
    },
    {
      "cell_type": "code",
      "metadata": {
        "id": "IcbfbX37wlRa",
        "colab_type": "code",
        "colab": {
          "base_uri": "https://localhost:8080/",
          "height": 850
        },
        "outputId": "844562ca-944c-4445-97ad-38ca618c38e3"
      },
      "source": [
        "import cv2\n",
        "img = cv2.imread('bear-1.jpg')\n",
        "print(img)"
      ],
      "execution_count": 2,
      "outputs": [
        {
          "output_type": "stream",
          "text": [
            "[[[133 179 157]\n",
            "  [133 179 157]\n",
            "  [133 179 157]\n",
            "  ...\n",
            "  [152 188 171]\n",
            "  [150 186 169]\n",
            "  [147 183 166]]\n",
            "\n",
            " [[134 180 158]\n",
            "  [133 179 157]\n",
            "  [132 178 156]\n",
            "  ...\n",
            "  [153 189 172]\n",
            "  [152 188 171]\n",
            "  [152 188 171]]\n",
            "\n",
            " [[134 180 158]\n",
            "  [133 179 157]\n",
            "  [133 179 157]\n",
            "  ...\n",
            "  [153 189 172]\n",
            "  [155 191 174]\n",
            "  [156 192 175]]\n",
            "\n",
            " ...\n",
            "\n",
            " [[104 174 151]\n",
            "  [100 170 147]\n",
            "  [ 97 167 144]\n",
            "  ...\n",
            "  [149 195 176]\n",
            "  [150 195 176]\n",
            "  [150 195 176]]\n",
            "\n",
            " [[104 172 149]\n",
            "  [103 171 148]\n",
            "  [101 169 146]\n",
            "  ...\n",
            "  [146 195 175]\n",
            "  [148 194 175]\n",
            "  [147 193 174]]\n",
            "\n",
            " [[100 168 145]\n",
            "  [102 170 147]\n",
            "  [105 173 150]\n",
            "  ...\n",
            "  [145 194 174]\n",
            "  [147 193 174]\n",
            "  [146 192 173]]]\n"
          ],
          "name": "stdout"
        }
      ]
    }
  ]
}